{
 "cells": [
  {
   "cell_type": "code",
   "execution_count": null,
   "id": "ef37bbd4",
   "metadata": {},
   "outputs": [],
   "source": [
    "from flask import Flask ,request ,render_template\n",
    "import pickle\n",
    "import numpy as np\n",
    "\n",
    "app = Flask(__name__)\n",
    "model = pickle.load(open('regressor_model.pkl','rb'))\n",
    "@app.route('/')\n",
    "\n",
    "def home():\n",
    "    return render_template('index.html')\n",
    "\n",
    "@app.route('/predict',methods=['POST'])\n",
    "\n",
    "def predict():\n",
    "    float_features = [float(x) for x in request.form.values()]  # list comphress \n",
    "    final_features = [np.array(float_features)]\n",
    "    # more pre proce\n",
    "    prediction = model.predict(final_features)\n",
    "    print(prediction)\n",
    "    \n",
    "    return render_template('index.html',prediction_text = \"  House Price Predicted Cost is  $ : {}\".format(prediction))\n",
    "\n",
    "if __name__ == '__main__':\n",
    "    app.run()"
   ]
  }
 ],
 "metadata": {
  "kernelspec": {
   "display_name": "Python 3 (ipykernel)",
   "language": "python",
   "name": "python3"
  },
  "language_info": {
   "codemirror_mode": {
    "name": "ipython",
    "version": 3
   },
   "file_extension": ".py",
   "mimetype": "text/x-python",
   "name": "python",
   "nbconvert_exporter": "python",
   "pygments_lexer": "ipython3",
   "version": "3.8.5"
  }
 },
 "nbformat": 4,
 "nbformat_minor": 5
}
